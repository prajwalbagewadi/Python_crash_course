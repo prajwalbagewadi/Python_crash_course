{
  "metadata": {
    "kernelspec": {
      "name": "python",
      "display_name": "Python (Pyodide)",
      "language": "python"
    },
    "language_info": {
      "codemirror_mode": {
        "name": "python",
        "version": 3
      },
      "file_extension": ".py",
      "mimetype": "text/x-python",
      "name": "python",
      "nbconvert_exporter": "python",
      "pygments_lexer": "ipython3",
      "version": "3.8"
    }
  },
  "nbformat_minor": 5,
  "nbformat": 4,
  "cells": [
    {
      "id": "f060c11b-42f7-4107-b524-ffbde01d2dd4",
      "cell_type": "code",
      "source": "#first step\nprint(\"Hello! python@interpreter\")",
      "metadata": {
        "trusted": true
      },
      "outputs": [
        {
          "name": "stdout",
          "text": "Hello! python@interpreter\n",
          "output_type": "stream"
        }
      ],
      "execution_count": 16
    },
    {
      "id": "c91b355d-e029-4e97-a47f-f6812f8bf2a8",
      "cell_type": "code",
      "source": "#get python version\nimport sys\nprint(sys.executable)",
      "metadata": {
        "trusted": true,
        "scrolled": true
      },
      "outputs": [
        {
          "name": "stdout",
          "text": "/home/pyodide/this.program\n",
          "output_type": "stream"
        }
      ],
      "execution_count": 15
    },
    {
      "id": "b2939717-7eb5-406c-bc23-ee1d55aed644",
      "cell_type": "markdown",
      "source": "data types and variables in python",
      "metadata": {
        "scrolled": true
      }
    },
    {
      "id": "350e228b-63b1-41dc-8a00-ba828e17da5e",
      "cell_type": "code",
      "source": "#integers\nnum=10\nprint(\" int val=\",num)\nprint(\"type of num=\",type(num))",
      "metadata": {
        "trusted": true
      },
      "outputs": [
        {
          "name": "stdout",
          "text": " int val= 10\ntype of num= <class 'int'>\n",
          "output_type": "stream"
        }
      ],
      "execution_count": 14
    },
    {
      "id": "91682e4d-e326-4a26-8867-ed284e48dc60",
      "cell_type": "markdown",
      "source": "type()\nThe type() function is mostly used for debugging purposes. Two different types of arguments can be passed to type() function, single and three arguments. If a single argument type(obj) is passed, it returns the type of the given object. If three argument types (object, bases, dict) are passed, it returns a new type object. \n\nPython type() function Syntax\nSyntax: type(object, bases, dict)\n\nParameters : \n\nobject: Required. If only one parameter is specified, the type() function returns the type of this object\nbases : tuple of classes from which the current class derives. Later corresponds to the __bases__ attribute. \ndict : a dictionary that holds the namespaces for the class. Later corresponds to the __dict__ attribute.\nReturn: returns a new type class or essentially a metaclass",
      "metadata": {}
    },
    {
      "id": "d91cfae4-6adf-4d7e-9ebf-6c210cd9a361",
      "cell_type": "code",
      "source": "#float\n\"\"\"\n#precision of 15 digits \n\"\"\"\ndecimal_num=23.567907934357894\nprint(\" float val=\",decimal_num)\nprint(\"type of decimal=\",type(decimal_num))",
      "metadata": {
        "trusted": true
      },
      "outputs": [
        {
          "name": "stdout",
          "text": " float val= 23.567907934357894\ntype of decimal= <class 'float'>\n",
          "output_type": "stream"
        }
      ],
      "execution_count": 13
    },
    {
      "id": "138ce60f-cc54-426f-ba34-ceb53a46c251",
      "cell_type": "code",
      "source": "#complex\n\"\"\"\n# to store complex numbers\n#In Python, the symbol j is used to denote the imaginary unit. Furthermore, a coefficient before j is needed. To specify a complex number,\n\"\"\"\ncmp=3j\ncmp1=2+3j\nprint(\" complex val=\",cmp)\nprint(\" complex val=\",cmp1)\nprint(\"type of cmp=\",type(cmp))\nprint(\"type of cmp1=\",type(cmp1))",
      "metadata": {
        "trusted": true
      },
      "outputs": [
        {
          "name": "stdout",
          "text": " complex val= 3j\n complex val= (2+3j)\ntype of cmp= <class 'complex'>\ntype of cmp1= <class 'complex'>\n",
          "output_type": "stream"
        }
      ],
      "execution_count": 12
    },
    {
      "id": "b645b6e2-4f34-4ae4-b805-cee394b89f98",
      "cell_type": "code",
      "source": "#boolean\n\"\"\"\nkeywords = True,False\nThe bool() function returns the boolean value of a specified object.\nThe object will always return True, unless:\nThe object is empty, like [], (), {}\nThe object is False\nThe object is 0\nThe object is None\n\"\"\"\nx=bool(1)\ny=True\nz=None\nprint(\" boolean val=\",x)\nprint(\" boolean val=\",y)\nprint(\" boolean val=\",z)\nprint(\"type of x=\",type(x))\nprint(\"type of y=\",type(y))\nprint(\"type of z=\",type(z))",
      "metadata": {
        "trusted": true
      },
      "outputs": [
        {
          "name": "stdout",
          "text": " boolean val= True\n boolean val= True\n boolean val= None\ntype of x= <class 'bool'>\ntype of y= <class 'bool'>\ntype of z= <class 'NoneType'>\n",
          "output_type": "stream"
        }
      ],
      "execution_count": 11
    },
    {
      "id": "a2211185-ba65-4650-983d-14823553ab53",
      "cell_type": "markdown",
      "source": "set() method is used to convert any of the iterable to a sequence of iterable elements with distinct elements, commonly called Set.\nIn Python, the set() function is a built-in constructor that is used to initialize a set or create an empty",
      "metadata": {}
    },
    {
      "id": "c1559ef3-28d5-4ee4-b0da-98a53cc4a3e6",
      "cell_type": "code",
      "source": "#sets\n\"\"\"\nWhat Is a Set?\nSet is a data type in python used to store several items in a single variable. \nIt is one of the four built-in data types (List, Dictionary, Tuple, and Set) having qualities and usage different from the other three. \nIt is a collection that is written with curly brackets and is both unindexed and unordered. \n\nA set is mutable, i.e., we can remove or add elements to it. \nSet in python is similar to mathematical sets, and operations like intersection, union, symmetric difference, and more can be applied\n\"\"\"\nset_a={\"str1\",\"str3\",\"str2\"}\nprint(\"set val=\",set_a)\nprint(\"type of set_a\",type(set_a))\nset_b={1,21,-23}\nprint(\"set val=\",set_b)\nprint(\"type of set_b\",type(set_b))\nmixed={\"string_prajwal\",23.45,1,False,2+6j}\nprint(\" mixed set val=\",mixed)\nprint(\"type of mixed\",type(mixed))\nduplicate=set({\"string_prajwal\",23.45,1,False,2+6j,\"string_prajwal\"})\nprint(\" duplicate set val=\",mixed)\nprint(\"type of duplicate\",type(duplicate))\n\"\"\"\nNo, you cannot create a set with duplicate values in Python because sets, by definition, only contain unique elements. \nIf you try to create a set with duplicate values, Python automatically removes the duplicates. Here's an example:\n\"\"\"",
      "metadata": {
        "trusted": true
      },
      "outputs": [
        {
          "name": "stdout",
          "text": "set val= {'str3', 'str2', 'str1'}\ntype of set_a <class 'set'>\nset val= {1, 21, -23}\ntype of set_b <class 'set'>\n mixed set val= {False, 1, 23.45, (2+6j), 'string_prajwal'}\ntype of mixed <class 'set'>\n duplicate set val= {False, 1, 23.45, (2+6j), 'string_prajwal'}\ntype of duplicate <class 'set'>\n",
          "output_type": "stream"
        },
        {
          "execution_count": 10,
          "output_type": "execute_result",
          "data": {
            "text/plain": "\"\\nNo, you cannot create a set with duplicate values in Python because sets, by definition, only contain unique elements. \\nIf you try to create a set with duplicate values, Python automatically removes the duplicates. Here's an example:\\n\""
          },
          "metadata": {}
        }
      ],
      "execution_count": 10
    },
    {
      "id": "95572fdf-9e01-4f68-9d1a-3104e127140b",
      "cell_type": "code",
      "source": "#strings\n\"\"\"\nStrings\nStrings in python are surrounded by either single quotation marks, or double quotation marks.\n'hello' is the same as \"hello\".\nYou can display a string literal with the print() function:\n\"\"\"\nprint(\"_hi to the concept of strings_\")\nvar=\"hello how are you\"\nprint(var)\nprint(\"message=\",var)\nprint(\"type of message=\",type(var))\n#multi line strings:\na=\"\"\"this is a\nmulti line string\nin python\n\"\"\"\nprint(a)\nprint(\"type of a\",type(a))",
      "metadata": {
        "trusted": true
      },
      "outputs": [
        {
          "name": "stdout",
          "text": "_hi to the concept of strings_\nhello how are you\nmessage= hello how are you\ntype of message= <class 'str'>\nthis is a\nmulti line string\nin python\n\ntype of a <class 'str'>\n",
          "output_type": "stream"
        }
      ],
      "execution_count": 6
    },
    {
      "id": "05de14e5-273f-4888-b243-7cd6c20c9a11",
      "cell_type": "code",
      "source": "",
      "metadata": {
        "trusted": true
      },
      "outputs": [],
      "execution_count": null
    }
  ]
}
{
  "metadata": {
    "kernelspec": {
      "name": "python",
      "display_name": "Python (Pyodide)",
      "language": "python"
    },
    "language_info": {
      "codemirror_mode": {
        "name": "python",
        "version": 3
      },
      "file_extension": ".py",
      "mimetype": "text/x-python",
      "name": "python",
      "nbconvert_exporter": "python",
      "pygments_lexer": "ipython3",
      "version": "3.8"
    }
  },
  "nbformat_minor": 5,
  "nbformat": 4,
  "cells": [
    {
      "id": "f060c11b-42f7-4107-b524-ffbde01d2dd4",
      "cell_type": "code",
      "source": "#first step\nprint(\"Hello! python@interpreter\")",
      "metadata": {
        "trusted": true
      },
      "outputs": [
        {
          "name": "stdout",
          "text": "Hello! python@interpreter\n",
          "output_type": "stream"
        }
      ],
      "execution_count": 2
    },
    {
      "id": "c91b355d-e029-4e97-a47f-f6812f8bf2a8",
      "cell_type": "code",
      "source": "#get python version\nimport sys\nprint(sys.executable)",
      "metadata": {
        "trusted": true,
        "scrolled": true
      },
      "outputs": [
        {
          "name": "stdout",
          "text": "/home/pyodide/this.program\n",
          "output_type": "stream"
        }
      ],
      "execution_count": 15
    },
    {
      "id": "780d81c1-7fde-4766-b9d6-2cea2dc34f4c",
      "cell_type": "code",
      "source": "#variables for beginners\n\n#strings\nvar=\"hello how are you\"\nprint(var)\nprint(\"message=\",var)\nprint(\"type of message=\",type(var))\n#integers\nnum=10\nprint(\" int val=\",num)\nprint(\"type of num=\",type(num))\n#float\n\"\"\"\n#precision of 15 digits \n\"\"\"\ndecimal_num=23.567907934357894\nprint(\" float val=\",decimal_num)\nprint(\"type of decimal=\",type(decimal_num))\n#complex\n\"\"\"\n# to store complex numbers\n#In Python, the symbol j is used to denote the imaginary unit. Furthermore, a coefficient before j is needed. To specify a complex number,\n\"\"\"\ncmp=3j\ncmp1=2+3j\nprint(\" complex val=\",cmp)\nprint(\" complex val=\",cmp1)\nprint(\"type of cmp=\",type(cmp))\nprint(\"type of cmp1=\",type(cmp1))\n#boolean\n\"\"\"\nkeywords = True,False\nThe bool() function returns the boolean value of a specified object.\nThe object will always return True, unless:\nThe object is empty, like [], (), {}\nThe object is False\nThe object is 0\nThe object is None\n\"\"\"\nx=bool(1)\ny=True\nz=None\nprint(\" boolean val=\",x)\nprint(\" boolean val=\",y)\nprint(\" boolean val=\",z)\nprint(\"type of x=\",type(x))\nprint(\"type of y=\",type(y))\nprint(\"type of z=\",type(z))",
      "metadata": {
        "trusted": true
      },
      "outputs": [
        {
          "name": "stdout",
          "text": "hello how are you\nmessage= hello how are you\ntype of message= <class 'str'>\n int val= 10\ntype of num= <class 'int'>\n float val= 23.567907934357894\ntype of decimal= <class 'float'>\n complex val= 3j\n complex val= (2+3j)\ntype of cmp= <class 'complex'>\ntype of cmp1= <class 'complex'>\n boolean val= True\n boolean val= True\n boolean val= None\ntype of x= <class 'bool'>\ntype of y= <class 'bool'>\ntype of z= <class 'NoneType'>\n",
          "output_type": "stream"
        }
      ],
      "execution_count": 54
    },
    {
      "id": "c1559ef3-28d5-4ee4-b0da-98a53cc4a3e6",
      "cell_type": "code",
      "source": "\"\"\"\nWhat Is a Set?\nSet is a data type in python used to store several items in a single variable. \nIt is one of the four built-in data types (List, Dictionary, Tuple, and Set) having qualities and usage different from the other three. \nIt is a collection that is written with curly brackets and is both unindexed and unordered. \n\nA set is mutable, i.e., we can remove or add elements to it. \nSet in python is similar to mathematical sets, and operations like intersection, union, symmetric difference, and more can be applied\n\"\"\"\nset_a={\"str1\",\"str3\",\"str2\"}\nprint(\"set val=\",set_a)\nset_b={1,21,-23}\nprint(\"set val=\",set_b)\nmixed={\"string_prajwal\",23.45,1,False,2+6j}\nprint(\" mixed set val=\",mixed)\nduplicate=set({\"string_prajwal\",23.45,1,False,2+6j,\"string_prajwal\"})\nprint(\" duplicate set val=\",mixed)\n\"\"\"\nNo, you cannot create a set with duplicate values in Python because sets, by definition, only contain unique elements. \nIf you try to create a set with duplicate values, Python automatically removes the duplicates. Here's an example:\n\"\"\"",
      "metadata": {
        "trusted": true
      },
      "outputs": [
        {
          "name": "stdout",
          "text": "set val= {'str2', 'str3', 'str1'}\nset val= {1, 21, -23}\n mixed set val= {False, 1, 23.45, (2+6j), 'string_prajwal'}\n duplicate set val= {False, 1, 23.45, (2+6j), 'string_prajwal'}\n",
          "output_type": "stream"
        },
        {
          "execution_count": 1,
          "output_type": "execute_result",
          "data": {
            "text/plain": "\"\\nNo, you cannot create a set with duplicate values in Python because sets, by definition, only contain unique elements. \\nIf you try to create a set with duplicate values, Python automatically removes the duplicates. Here's an example:\\n\""
          },
          "metadata": {}
        }
      ],
      "execution_count": 1
    },
    {
      "id": "5a43b992-6a53-4162-8f02-0512fcd94029",
      "cell_type": "code",
      "source": "",
      "metadata": {
        "trusted": true
      },
      "outputs": [],
      "execution_count": null
    }
  ]
}